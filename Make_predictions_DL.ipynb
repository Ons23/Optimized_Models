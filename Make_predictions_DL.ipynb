{
 "cells": [
  {
   "cell_type": "code",
   "execution_count": 1,
   "id": "f00022c4",
   "metadata": {},
   "outputs": [
    {
     "name": "stderr",
     "output_type": "stream",
     "text": [
      "2025-03-04 12:02:05.628873: I tensorflow/stream_executor/platform/default/dso_loader.cc:49] Successfully opened dynamic library libcudart.so.10.1\n",
      "Skipped loading modules with pytorch-lightning dependency, missing a dependency. No module named 'lightning'\n",
      "Skipped loading some Jax models, missing a dependency. jax requires jaxlib to be installed. See https://github.com/google/jax#installation for installation instructions.\n"
     ]
    }
   ],
   "source": [
    "import pandas as pd\n",
    "import numpy as np\n",
    "import deepchem as dc\n",
    "import warnings\n",
    "warnings.filterwarnings('ignore')\n",
    "from deepchem.models.torch_models import AttentiveFPModel\n",
    "from deepchem.models.torch_models import GCNModel\n",
    "from deepchem.metrics.metric import Metric\n",
    "from sklearn.metrics import ConfusionMatrixDisplay\n",
    "import matplotlib.pyplot as plt \n",
    "from Featurizer import Featurizer\n",
    "from Predictions import Predict"
   ]
  },
  {
   "cell_type": "code",
   "execution_count": 2,
   "id": "03d36dcd-1291-4035-adb2-cf0856fd695d",
   "metadata": {},
   "outputs": [],
   "source": [
    "data = pd.read_csv('PATH_TO_YOUR_DATA.csv')"
   ]
  },
  {
   "cell_type": "markdown",
   "id": "0913be48-521a-421c-bf6d-ddd71269cc32",
   "metadata": {},
   "source": [
    "# GCN"
   ]
  },
  {
   "cell_type": "code",
   "execution_count": 3,
   "id": "a68a0e8a",
   "metadata": {},
   "outputs": [],
   "source": [
    "model = Featurizer(model= \"gcn\")\n",
    "data_path = \"PATH_TO_YOUR_DATA.csv\"\n",
    "test_dataset_gcn, transformers_gcn= model.featurize(data_path)\n",
    "test_dataset_gcn_y= test_dataset_gcn.y"
   ]
  },
  {
   "cell_type": "code",
   "execution_count": 4,
   "id": "b539bd93-c49f-4cbe-8871-6ecb869b70e8",
   "metadata": {},
   "outputs": [],
   "source": [
    "#Best Hyperparameters from Suuplemantary File S1\n",
    "model_gcn = GCNModel(1,graph_conv_layers= [512,128,64], mode='classification',batch_size=64,learning_rate=0.001,dropout=0.15,param_hidden_feat = 128) \n",
    "model_gcn.restore('GCN_COVID-19_1:10.pt')"
   ]
  },
  {
   "cell_type": "code",
   "execution_count": 5,
   "id": "b14792ef-396b-4adb-a4be-5de459f15097",
   "metadata": {},
   "outputs": [],
   "source": [
    "metric= [dc.metrics.roc_auc_score, dc.metrics.accuracy_score, dc.metrics.f1_score, dc.metrics.recall_score]\n",
    "test_scores = {}\n",
    "test_scores[\"GCN\"] = model_gcn.evaluate(test_dataset_gcn, metric)"
   ]
  },
  {
   "cell_type": "code",
   "execution_count": 6,
   "id": "bb458803",
   "metadata": {},
   "outputs": [],
   "source": [
    "m =  Predict (model_name = \"GCN\")\n",
    "df_gcn = m.predictions(model_gcn, data, test_dataset_gcn, test_dataset_gcn_y,test_scores)"
   ]
  },
  {
   "cell_type": "markdown",
   "id": "7da1035d-695b-4a1d-b7b5-1b7b36202b15",
   "metadata": {},
   "source": [
    "# AFP"
   ]
  },
  {
   "cell_type": "code",
   "execution_count": 7,
   "id": "cb1f2481",
   "metadata": {},
   "outputs": [],
   "source": [
    "model = Featurizer(model= \"afp\")\n",
    "data_path = \"PATH_TO_YOUR_DATA.csv\"\n",
    "test_dataset_afp, transformers_afp= model.featurize(data_path)\n",
    "test_dataset_afp_y= test_dataset_afp.y"
   ]
  },
  {
   "cell_type": "code",
   "execution_count": 8,
   "id": "b830e53a-e2bb-4b45-a197-18af618afc82",
   "metadata": {},
   "outputs": [],
   "source": [
    "#Best Hyperparameters from Suuplemantary File S1\n",
    "model_afp =  AttentiveFPModel(n_tasks= 1, mode=\"classification\", batch_size=32, learning_rate=0.001, droupout=0.1, num_timesteps=2, num_layers= 3) \n",
    "model_afp.restore('AFP_COVID-19_1:10.pt')"
   ]
  },
  {
   "cell_type": "code",
   "execution_count": 9,
   "id": "4362654c",
   "metadata": {},
   "outputs": [],
   "source": [
    "metric= [dc.metrics.roc_auc_score, dc.metrics.accuracy_score, dc.metrics.f1_score, dc.metrics.recall_score]\n",
    "test_scores = {}\n",
    "test_scores[\"AFP\"] = model_afp.evaluate(test_dataset_afp, metric)"
   ]
  },
  {
   "cell_type": "code",
   "execution_count": 10,
   "id": "1a09636d",
   "metadata": {},
   "outputs": [],
   "source": [
    "m =  Predict (model_name = \"AFP\")\n",
    "df_2 = m.predictions(model_afp,data, test_dataset_afp,test_dataset_afp_y,test_scores)"
   ]
  },
  {
   "cell_type": "code",
   "execution_count": null,
   "id": "438aa339",
   "metadata": {},
   "outputs": [],
   "source": []
  }
 ],
 "metadata": {
  "kernelspec": {
   "display_name": "Python 3 (ipykernel)",
   "language": "python",
   "name": "python3"
  },
  "language_info": {
   "codemirror_mode": {
    "name": "ipython",
    "version": 3
   },
   "file_extension": ".py",
   "mimetype": "text/x-python",
   "name": "python",
   "nbconvert_exporter": "python",
   "pygments_lexer": "ipython3",
   "version": "3.8.19"
  }
 },
 "nbformat": 4,
 "nbformat_minor": 5
}
