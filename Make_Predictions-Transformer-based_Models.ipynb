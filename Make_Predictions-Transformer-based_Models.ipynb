{
 "cells": [
  {
   "cell_type": "code",
   "execution_count": 2,
   "id": "3d12f49d-09ea-46db-9490-671dc89acccf",
   "metadata": {},
   "outputs": [],
   "source": [
    "import dill\n",
    "import torch\n",
    "import pandas as pd\n",
    "import numpy as np\n",
    "import torch.nn.functional as F\n",
    "from sklearn.metrics import matthews_corrcoef, balanced_accuracy_score, precision_score, recall_score, roc_auc_score\n",
    "from sklearn.metrics import ConfusionMatrixDisplay\n",
    "from sklearn.metrics import classification_report, confusion_matrix\n",
    "\n",
    "class Predictor:\n",
    "    def __init__(self, model_name, model_path):\n",
    "        self.model_name = model_name\n",
    "        # Load model from pickle\n",
    "        with open(model_path, \"rb\") as f:\n",
    "            self.model = dill.load(f)\n",
    "        self.model.eval()\n",
    "\n",
    "    def predict_smiles(self, smiles, tokenizer):\n",
    "        inputs = tokenizer(smiles, truncation=True, padding=True, return_tensors='pt')\n",
    "        with torch.no_grad():\n",
    "            outputs = self.model(**inputs)\n",
    "        logits = outputs[\"logits\"] if \"logits\" in outputs else outputs[0]\n",
    "        probabilities = F.softmax(logits, dim=1).squeeze()\n",
    "        predicted_class = torch.argmax(logits, dim=1).item()\n",
    "        predicted_probability = probabilities[predicted_class].item()\n",
    "        return predicted_class, predicted_probability\n",
    "\n",
    "    def predict_dataset(self, dataset, tokenizer):\n",
    "        predictions = []\n",
    "        y_true = []\n",
    "        y_pred = []\n",
    "        probabilities = []\n",
    "\n",
    "        for _, row in dataset.iterrows():\n",
    "            smiles = row['SMILES']\n",
    "            label = row.get(\"label\", None)\n",
    "            predicted_class, predicted_probability = self.predict_smiles(smiles, tokenizer)\n",
    "\n",
    "            predictions.append({\n",
    "                \"SMILES\": smiles,\n",
    "                \"Label\": label,\n",
    "                \"Prediction\": predicted_class,\n",
    "                \"Probability\": round(predicted_probability, 3),\n",
    "                \"Activity_pred\": \"active\" if predicted_class == 1 else \"inactive\"\n",
    "            })\n",
    "\n",
    "            y_true.append(label)\n",
    "            y_pred.append(predicted_class)\n",
    "            probabilities.append(predicted_probability)\n",
    "\n",
    "        results = pd.DataFrame(predictions)\n",
    "        results.to_csv('{}_Predictions_Results.csv'.format(self.model_name), index=False)     \n",
    "\n",
    "        y_true = np.array(y_true)\n",
    "        y_pred = np.array(y_pred)\n",
    "        cm = confusion_matrix(y_true, y_pred)\n",
    "        tn, fp, fn, tp = cm.ravel()\n",
    "        tpr = tp / (tp + fn)  # True Positive Rate\n",
    "        fpr = fp / (fp + tn)  # False Positive Rate\n",
    "        metrics = {\n",
    "            \"Accuracy\": [np.mean(y_true == y_pred)],\n",
    "            \"Balanced Accuracy\": [balanced_accuracy_score(y_true, y_pred)],\n",
    "            \"ROC AUC\": [roc_auc_score(y_true, probabilities) if len(set(y_true)) > 1 else None],\n",
    "            \"MCC\": [matthews_corrcoef(y_true, y_pred)],\n",
    "            \"Precision\": [precision_score(y_true, y_pred, zero_division=0)],\n",
    "            \"Recall\": [recall_score(y_true, y_pred, zero_division=0)],\n",
    "            \"F1-Score\": [precision_score(y_true, y_pred, zero_division=0)],\n",
    "            \"TPR\": [tpr],\n",
    "            \"FPR\": [fpr],}\n",
    "\n",
    "        # Create metrics DataFrame\n",
    "        df_results = pd.DataFrame(metrics)\n",
    "        df_results = pd.melt(df_results, var_name='Metrics', value_name='Test_scores')\n",
    "        df_results.to_csv('{}_External_metric_results.csv'.format(self.model_name), index=False)\n",
    "\n",
    "        return results, df_results\n"
   ]
  },
  {
   "cell_type": "markdown",
   "id": "628eab45-c663-4ada-8c97-fe897bcc0023",
   "metadata": {},
   "source": [
    "# ChemBERTa"
   ]
  },
  {
   "cell_type": "code",
   "execution_count": 3,
   "id": "b67cabcf-71a9-4cc9-a698-f5a2ee4e309f",
   "metadata": {},
   "outputs": [],
   "source": [
    "from transformers import RobertaTokenizerFast\n",
    "\n",
    "# Load tokenizer\n",
    "tokenizer = RobertaTokenizerFast.from_pretrained('seyonec/SMILES_tokenized_PubChem_shard00_160k')\n",
    "\n",
    "# Define dataset\n",
    "dataset = pd.read_csv (\"PATH_TO_YOUR_DATA.csv\")\n",
    "\n",
    "predictor = Predictor(\"ChemBERTa\",'ChembBERTa_Trypanosomiasis_1:10.pkl')\n",
    "predictor.predict_dataset(dataset, tokenizer)"
   ]
  },
  {
   "cell_type": "markdown",
   "id": "0c5e3cbe-5daf-4ee6-842c-ea1ecc6178c9",
   "metadata": {},
   "source": [
    "# MolFormer"
   ]
  },
  {
   "cell_type": "code",
   "execution_count": 4,
   "id": "4c1d3fe6-e3d6-4079-b5d7-099510f93ba7",
   "metadata": {},
   "outputs": [],
   "source": [
    "from transformers import AutoTokenizer\n",
    "\n",
    "# Load tokenizer\n",
    "tokenizer = AutoTokenizer.from_pretrained(\"ibm/MoLFormer-XL-both-10pct\", trust_remote_code=True)\n",
    "\n",
    "dataset = pd.read_csv (\"PATH_TO_YOUR_DATA.csv\")\n",
    "\n",
    "predictor = Predictor(\"MolFormer\",'MolFormer_COVID19_1:10.pkl')\n",
    "predictor.predict_dataset(dataset, tokenizer)"
   ]
  }
 ],
 "metadata": {
  "kernelspec": {
   "display_name": "Python 3 (ipykernel)",
   "language": "python",
   "name": "python3"
  },
  "language_info": {
   "codemirror_mode": {
    "name": "ipython",
    "version": 3
   },
   "file_extension": ".py",
   "mimetype": "text/x-python",
   "name": "python",
   "nbconvert_exporter": "python",
   "pygments_lexer": "ipython3",
   "version": "3.11.4"
  }
 },
 "nbformat": 4,
 "nbformat_minor": 5
}
